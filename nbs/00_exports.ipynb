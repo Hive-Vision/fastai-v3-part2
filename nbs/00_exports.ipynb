{
 "cells": [
  {
   "cell_type": "code",
   "execution_count": 1,
   "metadata": {},
   "outputs": [],
   "source": [
    "#export\n",
    "TEST = 'test'"
   ]
  },
  {
   "cell_type": "markdown",
   "metadata": {},
   "source": [
    "## Export"
   ]
  },
  {
   "cell_type": "code",
   "execution_count": 1,
   "metadata": {},
   "outputs": [
    {
     "output_type": "stream",
     "name": "stdout",
     "text": [
      "Converted 00_exports.ipynb to exp/nb_00.py\n"
     ]
    }
   ],
   "source": [
    "!python notebook2script.py 00_exports.ipynb"
   ]
  },
  {
   "cell_type": "markdown",
   "metadata": {},
   "source": [
    "### How it works:"
   ]
  },
  {
   "cell_type": "code",
   "execution_count": 3,
   "metadata": {},
   "outputs": [],
   "source": [
    "import json\n",
    "d = json.load(open('00_exports.ipynb','r'))['cells']"
   ]
  },
  {
   "cell_type": "code",
   "execution_count": 4,
   "metadata": {},
   "outputs": [
    {
     "output_type": "execute_result",
     "data": {
      "text/plain": [
       "{'cell_type': 'code',\n",
       " 'execution_count': None,\n",
       " 'metadata': {},\n",
       " 'outputs': [],\n",
       " 'source': ['#export\\n', \"TEST = 'test'\"]}"
      ]
     },
     "metadata": {},
     "execution_count": 4
    }
   ],
   "source": [
    "d[0]"
   ]
  },
  {
   "cell_type": "code",
   "execution_count": null,
   "metadata": {},
   "outputs": [],
   "source": []
  }
 ],
 "metadata": {
  "kernelspec": {
   "display_name": "Python 3.6.12 64-bit ('gpudl': conda)",
   "language": "python",
   "name": "python361264bitgpudlconda1a33a1ed3ad54352bbe5fb1ae95f9b33"
  }
 },
 "nbformat": 4,
 "nbformat_minor": 2
}